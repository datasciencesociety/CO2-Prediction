{
 "cells": [
  {
   "cell_type": "markdown",
   "metadata": {},
   "source": [
    "# Author Stefan Panev\n"
   ]
  },
  {
   "cell_type": "code",
   "execution_count": 1,
   "metadata": {
    "collapsed": true
   },
   "outputs": [],
   "source": [
    "%matplotlib inline"
   ]
  },
  {
   "cell_type": "code",
   "execution_count": 2,
   "metadata": {},
   "outputs": [
    {
     "name": "stderr",
     "output_type": "stream",
     "text": [
      "C:\\Users\\Stefan\\Anaconda3\\lib\\site-packages\\h5py\\__init__.py:34: FutureWarning: Conversion of the second argument of issubdtype from `float` to `np.floating` is deprecated. In future, it will be treated as `np.float64 == np.dtype(float).type`.\n",
      "  from ._conv import register_converters as _register_converters\n"
     ]
    }
   ],
   "source": [
    "import numpy as np\n",
    "import pandas as pd\n",
    "import matplotlib.pyplot as plt\n",
    "import tensorflow as tf"
   ]
  },
  {
   "cell_type": "markdown",
   "metadata": {},
   "source": [
    "## GRU cell\n",
    "The same process as in the last notebook is taken place so, we will not cover it, until the model."
   ]
  },
  {
   "cell_type": "code",
   "execution_count": 3,
   "metadata": {
    "collapsed": true
   },
   "outputs": [],
   "source": [
    "keeling = pd.read_csv('keeling.csv',error_bad_lines=False)"
   ]
  },
  {
   "cell_type": "code",
   "execution_count": 4,
   "metadata": {
    "collapsed": true
   },
   "outputs": [],
   "source": [
    "cols = ['Yr', 'Mn', 'Date', 'Date1', 'CO2', 'seasonally',\n",
    "       'fit', 'seasonally', 'filled_CO2', 'filled_seasonally']"
   ]
  },
  {
   "cell_type": "code",
   "execution_count": 5,
   "metadata": {
    "collapsed": true
   },
   "outputs": [],
   "source": [
    "keeling.columns = cols"
   ]
  },
  {
   "cell_type": "code",
   "execution_count": 6,
   "metadata": {
    "collapsed": true
   },
   "outputs": [],
   "source": [
    "keeling = keeling.iloc[2:]"
   ]
  },
  {
   "cell_type": "code",
   "execution_count": 7,
   "metadata": {},
   "outputs": [
    {
     "data": {
      "text/html": [
       "<div>\n",
       "<style>\n",
       "    .dataframe thead tr:only-child th {\n",
       "        text-align: right;\n",
       "    }\n",
       "\n",
       "    .dataframe thead th {\n",
       "        text-align: left;\n",
       "    }\n",
       "\n",
       "    .dataframe tbody tr th {\n",
       "        vertical-align: top;\n",
       "    }\n",
       "</style>\n",
       "<table border=\"1\" class=\"dataframe\">\n",
       "  <thead>\n",
       "    <tr style=\"text-align: right;\">\n",
       "      <th></th>\n",
       "      <th>Yr</th>\n",
       "      <th>Mn</th>\n",
       "      <th>Date</th>\n",
       "      <th>Date1</th>\n",
       "      <th>CO2</th>\n",
       "      <th>seasonally</th>\n",
       "      <th>fit</th>\n",
       "      <th>seasonally</th>\n",
       "      <th>filled_CO2</th>\n",
       "      <th>filled_seasonally</th>\n",
       "    </tr>\n",
       "  </thead>\n",
       "  <tbody>\n",
       "    <tr>\n",
       "      <th>2</th>\n",
       "      <td>1958</td>\n",
       "      <td>01</td>\n",
       "      <td>21200</td>\n",
       "      <td>1958.0411</td>\n",
       "      <td>-99.99</td>\n",
       "      <td>-99.99</td>\n",
       "      <td>-99.99</td>\n",
       "      <td>-99.99</td>\n",
       "      <td>-99.99</td>\n",
       "      <td>-99.99</td>\n",
       "    </tr>\n",
       "    <tr>\n",
       "      <th>3</th>\n",
       "      <td>1958</td>\n",
       "      <td>02</td>\n",
       "      <td>21231</td>\n",
       "      <td>1958.1260</td>\n",
       "      <td>-99.99</td>\n",
       "      <td>-99.99</td>\n",
       "      <td>-99.99</td>\n",
       "      <td>-99.99</td>\n",
       "      <td>-99.99</td>\n",
       "      <td>-99.99</td>\n",
       "    </tr>\n",
       "    <tr>\n",
       "      <th>4</th>\n",
       "      <td>1958</td>\n",
       "      <td>03</td>\n",
       "      <td>21259</td>\n",
       "      <td>1958.2027</td>\n",
       "      <td>315.70</td>\n",
       "      <td>314.42</td>\n",
       "      <td>316.19</td>\n",
       "      <td>314.90</td>\n",
       "      <td>315.70</td>\n",
       "      <td>314.42</td>\n",
       "    </tr>\n",
       "    <tr>\n",
       "      <th>5</th>\n",
       "      <td>1958</td>\n",
       "      <td>04</td>\n",
       "      <td>21290</td>\n",
       "      <td>1958.2877</td>\n",
       "      <td>317.46</td>\n",
       "      <td>315.15</td>\n",
       "      <td>317.30</td>\n",
       "      <td>314.98</td>\n",
       "      <td>317.46</td>\n",
       "      <td>315.15</td>\n",
       "    </tr>\n",
       "    <tr>\n",
       "      <th>6</th>\n",
       "      <td>1958</td>\n",
       "      <td>05</td>\n",
       "      <td>21320</td>\n",
       "      <td>1958.3699</td>\n",
       "      <td>317.51</td>\n",
       "      <td>314.71</td>\n",
       "      <td>317.85</td>\n",
       "      <td>315.06</td>\n",
       "      <td>317.51</td>\n",
       "      <td>314.71</td>\n",
       "    </tr>\n",
       "  </tbody>\n",
       "</table>\n",
       "</div>"
      ],
      "text/plain": [
       "     Yr   Mn      Date       Date1        CO2 seasonally          fit  \\\n",
       "2  1958   01     21200   1958.0411     -99.99     -99.99       -99.99   \n",
       "3  1958   02     21231   1958.1260     -99.99     -99.99       -99.99   \n",
       "4  1958   03     21259   1958.2027     315.70     314.42       316.19   \n",
       "5  1958   04     21290   1958.2877     317.46     315.15       317.30   \n",
       "6  1958   05     21320   1958.3699     317.51     314.71       317.85   \n",
       "\n",
       "  seasonally   filled_CO2 filled_seasonally  \n",
       "2     -99.99       -99.99            -99.99  \n",
       "3     -99.99       -99.99            -99.99  \n",
       "4     314.90       315.70            314.42  \n",
       "5     314.98       317.46            315.15  \n",
       "6     315.06       317.51            314.71  "
      ]
     },
     "execution_count": 7,
     "metadata": {},
     "output_type": "execute_result"
    }
   ],
   "source": [
    "keeling.head()"
   ]
  },
  {
   "cell_type": "code",
   "execution_count": 8,
   "metadata": {
    "collapsed": true
   },
   "outputs": [],
   "source": [
    "co2 = keeling[['Yr','CO2']]"
   ]
  },
  {
   "cell_type": "code",
   "execution_count": 9,
   "metadata": {
    "collapsed": true
   },
   "outputs": [],
   "source": [
    "co2 = co2[co2['CO2'] != '   -99.99']"
   ]
  },
  {
   "cell_type": "code",
   "execution_count": 10,
   "metadata": {
    "collapsed": true
   },
   "outputs": [],
   "source": [
    "co2 = pd.to_numeric(co2['CO2'])"
   ]
  },
  {
   "cell_type": "code",
   "execution_count": 11,
   "metadata": {
    "collapsed": true
   },
   "outputs": [],
   "source": [
    "train_set = co2.iloc[:711]"
   ]
  },
  {
   "cell_type": "code",
   "execution_count": 12,
   "metadata": {
    "collapsed": true
   },
   "outputs": [],
   "source": [
    "test_set = co2.iloc[711:]"
   ]
  },
  {
   "cell_type": "code",
   "execution_count": 13,
   "metadata": {
    "collapsed": true
   },
   "outputs": [],
   "source": [
    "def next_batch(training_data,batch_size,steps):\n",
    "    \n",
    "    # start from a random starting point for each batch\n",
    "    rand_start = np.random.randint(0,len(training_data)-steps) \n",
    "\n",
    "    # Create Y data for time series in the batches\n",
    "    y_batch = np.array(training_data[rand_start:rand_start+steps+1]).reshape(1,steps+1)\n",
    "\n",
    "    return y_batch[:, :-1].reshape(-1, steps, 1), y_batch[:, 1:].reshape(-1, steps, 1) "
   ]
  },
  {
   "cell_type": "code",
   "execution_count": 14,
   "metadata": {
    "collapsed": true
   },
   "outputs": [],
   "source": [
    "num_inputs = 1\n",
    "num_time_steps = 12\n",
    "num_neurons1 = 100\n",
    "num_outputs = 1\n",
    "learning_rate = 0.01\n",
    "num_train_iterations1 = 9000\n",
    "batch_size = 1\n",
    "# Try this parameteres"
   ]
  },
  {
   "cell_type": "code",
   "execution_count": 15,
   "metadata": {
    "collapsed": true
   },
   "outputs": [],
   "source": [
    "X = tf.placeholder(tf.float32, [None, num_time_steps, num_inputs])\n",
    "y = tf.placeholder(tf.float32, [None, num_time_steps, num_outputs])"
   ]
  },
  {
   "cell_type": "code",
   "execution_count": 16,
   "metadata": {
    "collapsed": true
   },
   "outputs": [],
   "source": [
    "cell1 = tf.contrib.rnn.OutputProjectionWrapper(\n",
    "    tf.contrib.rnn.GRUCell(num_units=num_neurons1, activation=tf.nn.relu),\n",
    "    output_size=num_outputs) "
   ]
  },
  {
   "cell_type": "markdown",
   "metadata": {},
   "source": [
    "This time we use the GRU or gated recurrent unit, for more information see here. https://towardsdatascience.com/understanding-gru-networks-2ef37df6c9be"
   ]
  },
  {
   "cell_type": "code",
   "execution_count": 17,
   "metadata": {
    "collapsed": true
   },
   "outputs": [],
   "source": [
    "outputs1, states1 = tf.nn.dynamic_rnn(cell1, X, dtype=tf.float32)"
   ]
  },
  {
   "cell_type": "code",
   "execution_count": 18,
   "metadata": {
    "collapsed": true
   },
   "outputs": [],
   "source": [
    "loss1 = tf.reduce_mean(tf.square(outputs1 - y)) # MSE\n",
    "optimizer1 = tf.train.AdamOptimizer(learning_rate=learning_rate)\n",
    "train1 = optimizer1.minimize(loss1)"
   ]
  },
  {
   "cell_type": "code",
   "execution_count": 19,
   "metadata": {
    "collapsed": true
   },
   "outputs": [],
   "source": [
    "init = tf.global_variables_initializer()"
   ]
  },
  {
   "cell_type": "code",
   "execution_count": 20,
   "metadata": {
    "collapsed": true
   },
   "outputs": [],
   "source": [
    "saver1 = tf.train.Saver()"
   ]
  },
  {
   "cell_type": "code",
   "execution_count": 21,
   "metadata": {},
   "outputs": [
    {
     "name": "stdout",
     "output_type": "stream",
     "text": [
      "0 \tMSE: 65280.363\n",
      "100 \tMSE: 1.5632788\n",
      "200 \tMSE: 1.3758453\n",
      "300 \tMSE: 1.2368158\n",
      "400 \tMSE: 1.7424327\n",
      "500 \tMSE: 1.0582377\n",
      "600 \tMSE: 1.1988074\n",
      "700 \tMSE: 1.1180214\n",
      "800 \tMSE: 1.4173428\n",
      "900 \tMSE: 1.2693162\n",
      "1000 \tMSE: 1.13534\n",
      "1100 \tMSE: 1.3734956\n",
      "1200 \tMSE: 1.0020148\n",
      "1300 \tMSE: 1.3482484\n",
      "1400 \tMSE: 1.0648204\n",
      "1500 \tMSE: 1.3419594\n",
      "1600 \tMSE: 1.5155334\n",
      "1700 \tMSE: 1.9203986\n",
      "1800 \tMSE: 1.7624865\n",
      "1900 \tMSE: 1.4667085\n",
      "2000 \tMSE: 1.4593903\n",
      "2100 \tMSE: 1.358776\n",
      "2200 \tMSE: 2.836919\n",
      "2300 \tMSE: 1.0504478\n",
      "2400 \tMSE: 1.5359942\n",
      "2500 \tMSE: 2.9980898\n",
      "2600 \tMSE: 1.4133188\n",
      "2700 \tMSE: 1.3970538\n",
      "2800 \tMSE: 1.2810984\n",
      "2900 \tMSE: 2.0460682\n",
      "3000 \tMSE: 1.6801505\n",
      "3100 \tMSE: 1.8019701\n",
      "3200 \tMSE: 1.0698202\n",
      "3300 \tMSE: 1.8839089\n",
      "3400 \tMSE: 2.058633\n",
      "3500 \tMSE: 1.2285308\n",
      "3600 \tMSE: 5.781015\n",
      "3700 \tMSE: 2.0025604\n",
      "3800 \tMSE: 1.4508638\n",
      "3900 \tMSE: 7.402491\n",
      "4000 \tMSE: 2.3820827\n",
      "4100 \tMSE: 1.2882253\n",
      "4200 \tMSE: 2.2264245\n",
      "4300 \tMSE: 1.8250438\n",
      "4400 \tMSE: 3.1758344\n",
      "4500 \tMSE: 1.5194947\n",
      "4600 \tMSE: 1.6464691\n",
      "4700 \tMSE: 1.3826281\n",
      "4800 \tMSE: 6.7203407\n",
      "4900 \tMSE: 15.649979\n",
      "5000 \tMSE: 1.5454121\n",
      "5100 \tMSE: 1.83916\n",
      "5200 \tMSE: 1.452792\n",
      "5300 \tMSE: 2.297177\n",
      "5400 \tMSE: 1.7492081\n",
      "5500 \tMSE: 1.9554987\n",
      "5600 \tMSE: 1.7915334\n",
      "5700 \tMSE: 5.4729257\n",
      "5800 \tMSE: 1.8367616\n",
      "5900 \tMSE: 1.8978294\n",
      "6000 \tMSE: 1.180894\n",
      "6100 \tMSE: 1.3475052\n",
      "6200 \tMSE: 6.905914\n",
      "6300 \tMSE: 1.9730345\n",
      "6400 \tMSE: 2.4560318\n",
      "6500 \tMSE: 1.727089\n",
      "6600 \tMSE: 2.0125206\n",
      "6700 \tMSE: 1.7450081\n",
      "6800 \tMSE: 3.353529\n",
      "6900 \tMSE: 1.8041239\n",
      "7000 \tMSE: 1.712861\n",
      "7100 \tMSE: 1.2252825\n",
      "7200 \tMSE: 1.0906682\n",
      "7300 \tMSE: 2.2914395\n",
      "7400 \tMSE: 1.8923599\n",
      "7500 \tMSE: 1.3572812\n",
      "7600 \tMSE: 2.3456872\n",
      "7700 \tMSE: 1.8365154\n",
      "7800 \tMSE: 1.2771314\n",
      "7900 \tMSE: 1.457923\n",
      "8000 \tMSE: 1.4706916\n",
      "8100 \tMSE: 2.1994774\n",
      "8200 \tMSE: 1.663014\n",
      "8300 \tMSE: 2.6389325\n",
      "8400 \tMSE: 3.1004212\n",
      "8500 \tMSE: 1.5690686\n",
      "8600 \tMSE: 1.1828703\n",
      "8700 \tMSE: 4.8831296\n",
      "8800 \tMSE: 1.9653243\n",
      "8900 \tMSE: 2.0009153\n"
     ]
    }
   ],
   "source": [
    "error1 = []\n",
    "with tf.Session() as sess1:\n",
    "    sess1.run(init)\n",
    "    \n",
    "    for iteration in range(num_train_iterations1):\n",
    "        \n",
    "        X_batch, y_batch = next_batch(train_set,batch_size,num_time_steps)\n",
    "        sess1.run(train1, feed_dict={X: X_batch, y: y_batch})\n",
    "        \n",
    "        if iteration % 100 == 0:\n",
    "            \n",
    "            mse = loss1.eval(feed_dict={X: X_batch, y: y_batch})\n",
    "            print(iteration, \"\\tMSE:\", mse)\n",
    "            error1.append(mse)\n",
    "    \n",
    "    # Save Model for Later\n",
    "    saver1.save(sess1, \"./GRUmodel\")"
   ]
  },
  {
   "cell_type": "code",
   "execution_count": 22,
   "metadata": {},
   "outputs": [
    {
     "data": {
      "image/png": "[encoded data removed]",
      "text/plain": [
       "<matplotlib.figure.Figure at 0x1e755810390>"
      ]
     },
     "metadata": {},
     "output_type": "display_data"
    }
   ],
   "source": [
    "plt.figure(figsize=(10,7))\n",
    "plt.plot(error1)\n",
    "plt.title('MSE for the training the GRU model')\n",
    "plt.xlabel('epochs')\n",
    "plt.ylabel('mse')\n",
    "plt.show()"
   ]
  },
  {
   "cell_type": "code",
   "execution_count": 23,
   "metadata": {},
   "outputs": [
    {
     "data": {
      "image/png": "[encoded data removed]",
      "text/plain": [
       "<matplotlib.figure.Figure at 0x1e755b86f98>"
      ]
     },
     "metadata": {},
     "output_type": "display_data"
    }
   ],
   "source": [
    "plt.figure(figsize=(10,7))\n",
    "plt.plot(error1[1:])\n",
    "plt.title('MSE for the training the GRU model without the first 1 instances')\n",
    "plt.xlabel('epochs')\n",
    "plt.ylabel('mse')\n",
    "plt.show()"
   ]
  },
  {
   "cell_type": "code",
   "execution_count": 24,
   "metadata": {},
   "outputs": [
    {
     "name": "stdout",
     "output_type": "stream",
     "text": [
      "INFO:tensorflow:Restoring parameters from ./GRUmodel\n"
     ]
    }
   ],
   "source": [
    "with tf.Session() as sess1:\n",
    "    \n",
    "    saver1.restore(sess1, \"./GRUmodel\")\n",
    "\n",
    "    train_seed = list(train_set[-12:])\n",
    "    \n",
    "    for iteration in range(12):\n",
    "        X_batch = np.array(train_seed[-num_time_steps:]).reshape(1, num_time_steps, 1)\n",
    "        y_pred = sess1.run(outputs1, feed_dict={X: X_batch})\n",
    "        train_seed.append(y_pred[0, -1, 0])"
   ]
  },
  {
   "cell_type": "code",
   "execution_count": 25,
   "metadata": {},
   "outputs": [
    {
     "data": {
      "text/plain": [
       "[403.64,\n",
       " 404.55,\n",
       " 406.07,\n",
       " 406.64,\n",
       " 407.06,\n",
       " 408.95,\n",
       " 409.91,\n",
       " 409.12,\n",
       " 407.2,\n",
       " 405.24,\n",
       " 403.27,\n",
       " 403.64,\n",
       " 404.18527,\n",
       " 404.58032,\n",
       " 405.08685,\n",
       " 405.57208,\n",
       " 406.0664,\n",
       " 406.61212,\n",
       " 407.18463,\n",
       " 407.69913,\n",
       " 408.10687,\n",
       " 408.407,\n",
       " 408.6057,\n",
       " 408.80316]"
      ]
     },
     "execution_count": 25,
     "metadata": {},
     "output_type": "execute_result"
    }
   ],
   "source": [
    "train_seed"
   ]
  },
  {
   "cell_type": "code",
   "execution_count": 26,
   "metadata": {
    "collapsed": true
   },
   "outputs": [],
   "source": [
    "gen1 = train_seed[12:]"
   ]
  },
  {
   "cell_type": "code",
   "execution_count": 27,
   "metadata": {
    "collapsed": true
   },
   "outputs": [],
   "source": [
    "test_copy = test_set.copy(deep=True)"
   ]
  },
  {
   "cell_type": "code",
   "execution_count": 28,
   "metadata": {
    "collapsed": true
   },
   "outputs": [],
   "source": [
    "test_copy = pd.DataFrame(test_copy)"
   ]
  },
  {
   "cell_type": "code",
   "execution_count": 29,
   "metadata": {
    "collapsed": true
   },
   "outputs": [],
   "source": [
    "test_copy['Generated1'] = gen1"
   ]
  },
  {
   "cell_type": "code",
   "execution_count": 30,
   "metadata": {},
   "outputs": [
    {
     "data": {
      "text/html": [
       "<div>\n",
       "<style>\n",
       "    .dataframe thead tr:only-child th {\n",
       "        text-align: right;\n",
       "    }\n",
       "\n",
       "    .dataframe thead th {\n",
       "        text-align: left;\n",
       "    }\n",
       "\n",
       "    .dataframe tbody tr th {\n",
       "        vertical-align: top;\n",
       "    }\n",
       "</style>\n",
       "<table border=\"1\" class=\"dataframe\">\n",
       "  <thead>\n",
       "    <tr style=\"text-align: right;\">\n",
       "      <th></th>\n",
       "      <th>CO2</th>\n",
       "      <th>Generated1</th>\n",
       "    </tr>\n",
       "  </thead>\n",
       "  <tbody>\n",
       "    <tr>\n",
       "      <th>720</th>\n",
       "      <td>405.17</td>\n",
       "      <td>404.185272</td>\n",
       "    </tr>\n",
       "    <tr>\n",
       "      <th>721</th>\n",
       "      <td>406.75</td>\n",
       "      <td>404.580322</td>\n",
       "    </tr>\n",
       "    <tr>\n",
       "      <th>722</th>\n",
       "      <td>408.05</td>\n",
       "      <td>405.086853</td>\n",
       "    </tr>\n",
       "    <tr>\n",
       "      <th>723</th>\n",
       "      <td>408.34</td>\n",
       "      <td>405.572083</td>\n",
       "    </tr>\n",
       "    <tr>\n",
       "      <th>724</th>\n",
       "      <td>409.26</td>\n",
       "      <td>406.066406</td>\n",
       "    </tr>\n",
       "    <tr>\n",
       "      <th>725</th>\n",
       "      <td>410.31</td>\n",
       "      <td>406.612122</td>\n",
       "    </tr>\n",
       "    <tr>\n",
       "      <th>726</th>\n",
       "      <td>411.31</td>\n",
       "      <td>407.184631</td>\n",
       "    </tr>\n",
       "    <tr>\n",
       "      <th>727</th>\n",
       "      <td>410.88</td>\n",
       "      <td>407.699127</td>\n",
       "    </tr>\n",
       "    <tr>\n",
       "      <th>728</th>\n",
       "      <td>408.90</td>\n",
       "      <td>408.106873</td>\n",
       "    </tr>\n",
       "    <tr>\n",
       "      <th>729</th>\n",
       "      <td>407.10</td>\n",
       "      <td>408.407013</td>\n",
       "    </tr>\n",
       "    <tr>\n",
       "      <th>730</th>\n",
       "      <td>405.59</td>\n",
       "      <td>408.605713</td>\n",
       "    </tr>\n",
       "    <tr>\n",
       "      <th>731</th>\n",
       "      <td>406.00</td>\n",
       "      <td>408.803162</td>\n",
       "    </tr>\n",
       "  </tbody>\n",
       "</table>\n",
       "</div>"
      ],
      "text/plain": [
       "        CO2  Generated1\n",
       "720  405.17  404.185272\n",
       "721  406.75  404.580322\n",
       "722  408.05  405.086853\n",
       "723  408.34  405.572083\n",
       "724  409.26  406.066406\n",
       "725  410.31  406.612122\n",
       "726  411.31  407.184631\n",
       "727  410.88  407.699127\n",
       "728  408.90  408.106873\n",
       "729  407.10  408.407013\n",
       "730  405.59  408.605713\n",
       "731  406.00  408.803162"
      ]
     },
     "execution_count": 30,
     "metadata": {},
     "output_type": "execute_result"
    }
   ],
   "source": [
    "test_copy"
   ]
  },
  {
   "cell_type": "code",
   "execution_count": 31,
   "metadata": {},
   "outputs": [
    {
     "data": {
      "image/png": "[encoded data removed]",
      "text/plain": [
       "<matplotlib.figure.Figure at 0x1e755810208>"
      ]
     },
     "metadata": {},
     "output_type": "display_data"
    }
   ],
   "source": [
    "plt.figure(figsize=(10,7))\n",
    "plt.plot(test_copy['CO2'], marker='o', color='blue', label='actual')\n",
    "plt.plot(test_copy['Generated1'], marker='o', color='red', label='predicted')\n",
    "plt.legend(loc='upper right') \n",
    "plt.title('Predicted vs real values for last 12 months')\n",
    "plt.xlabel('time')\n",
    "plt.ylabel('CO2 concentration in ppm')\n",
    "plt.show()"
   ]
  },
  {
   "cell_type": "markdown",
   "metadata": {
    "collapsed": true
   },
   "source": [
    "To sum things up the model performs worse then the LSTM model. If we decrease the train iterations we get a declining curve. With the inputted parameters we get undervalued results compared to the actual values, but we manage to capture the seasonality, although not very well."
   ]
  }
 ],
 "metadata": {
  "kernelspec": {
   "display_name": "Python 3",
   "language": "python",
   "name": "python3"
  },
  "language_info": {
   "codemirror_mode": {
    "name": "ipython",
    "version": 3
   },
   "file_extension": ".py",
   "mimetype": "text/x-python",
   "name": "python",
   "nbconvert_exporter": "python",
   "pygments_lexer": "ipython3",
   "version": "3.6.3"
  }
 },
 "nbformat": 4,
 "nbformat_minor": 2
}
