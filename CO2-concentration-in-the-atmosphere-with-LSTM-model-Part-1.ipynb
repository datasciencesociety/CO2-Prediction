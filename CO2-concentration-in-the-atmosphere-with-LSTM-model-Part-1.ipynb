{
 "cells": [
  {
   "cell_type": "markdown",
   "metadata": {},
   "source": [
    "# Author Stefan Panev\n",
    "\n",
    "### Abstract\n",
    "This notebook tries to predict monthly CO2 concentration in the atmosphere in ppm (particles per million). Several architectures of rnn (recurrent neural network) have been used. 3 types of networks have been displayed in 3 notebooks LSTM, GRU and stacked LSTM. The LSTM offers the closest predictions.\n",
    "\n",
    "<br>\n",
    "The following packages have been used:\n",
    "<br>\n",
    "1. nympy\n",
    "<br>\n",
    "2. matplotlib.pyplot\n",
    "<br>\n",
    "3. pandas\n",
    "<br>\n",
    "4. tensorflow\n",
    "<br>\n",
    "\n",
    "### Table of contents\n",
    "* [Introduction](#first-bullet)\n",
    "* [Preprocessing and EDA](#second-bullet)\n",
    "* [Batch Function](#third-bullet)\n",
    "* [Basic LSTM cell](#fourth-bullet)\n",
    "* [GRU model Part 2 next notebook](#fifth-bullet)\n",
    "* [Stacked LSTM model Part 3 last notebook](#sixth-bullet)\n",
    "* [Conclusion](#seventh-bullet)\n",
    "* [References](#eight-bullet)"
   ]
  },
  {
   "cell_type": "code",
   "execution_count": 1,
   "metadata": {
    "collapsed": true
   },
   "outputs": [],
   "source": [
    "%matplotlib inline"
   ]
  },
  {
   "cell_type": "code",
   "execution_count": 2,
   "metadata": {},
   "outputs": [
    {
     "name": "stderr",
     "output_type": "stream",
     "text": [
      "C:\\Users\\Stefan\\Anaconda3\\lib\\site-packages\\h5py\\__init__.py:34: FutureWarning: Conversion of the second argument of issubdtype from `float` to `np.floating` is deprecated. In future, it will be treated as `np.float64 == np.dtype(float).type`.\n",
      "  from ._conv import register_converters as _register_converters\n"
     ]
    }
   ],
   "source": [
    "import numpy as np\n",
    "import pandas as pd\n",
    "import matplotlib.pyplot as plt\n",
    "import tensorflow as tf"
   ]
  },
  {
   "cell_type": "markdown",
   "metadata": {},
   "source": [
    "## Introduction.\n",
    "We read file and save it as keeling. This measures the concentration of CO2 in the atmosphere on a monthly basis from 1958 to present day. This is the greenhouse gas with the highest concentration that accounts for more then 80% of climate change. Other notable gases are methane, ozone, water vapour and nitrogen oxides, but even though they have a far larger warming potential, they have a significantly lower concentration in ppb (particles per billion) while CO2 is measured in ppm or particles per million., For more information on the subject check this link: https://scripps.ucsd.edu/programs/keelingcurve/"
   ]
  },
  {
   "cell_type": "code",
   "execution_count": 3,
   "metadata": {
    "collapsed": true
   },
   "outputs": [],
   "source": [
    "keeling = pd.read_csv('keeling.csv',error_bad_lines=False)"
   ]
  },
  {
   "cell_type": "markdown",
   "metadata": {},
   "source": [
    "## Preprocessing and EDA\n",
    "We begin with checking the first 5 rows of the dataframe."
   ]
  },
  {
   "cell_type": "code",
   "execution_count": 4,
   "metadata": {},
   "outputs": [
    {
     "data": {
      "text/html": [
       "<div>\n",
       "<style>\n",
       "    .dataframe thead tr:only-child th {\n",
       "        text-align: right;\n",
       "    }\n",
       "\n",
       "    .dataframe thead th {\n",
       "        text-align: left;\n",
       "    }\n",
       "\n",
       "    .dataframe tbody tr th {\n",
       "        vertical-align: top;\n",
       "    }\n",
       "</style>\n",
       "<table border=\"1\" class=\"dataframe\">\n",
       "  <thead>\n",
       "    <tr style=\"text-align: right;\">\n",
       "      <th></th>\n",
       "      <th>Yr</th>\n",
       "      <th>Mn</th>\n",
       "      <th>Date</th>\n",
       "      <th>Date</th>\n",
       "      <th>CO2</th>\n",
       "      <th>seasonally</th>\n",
       "      <th>fit</th>\n",
       "      <th>seasonally</th>\n",
       "      <th>CO2</th>\n",
       "      <th>seasonally</th>\n",
       "    </tr>\n",
       "  </thead>\n",
       "  <tbody>\n",
       "    <tr>\n",
       "      <th>0</th>\n",
       "      <td></td>\n",
       "      <td></td>\n",
       "      <td></td>\n",
       "      <td></td>\n",
       "      <td></td>\n",
       "      <td>adjusted</td>\n",
       "      <td></td>\n",
       "      <td>adjusted fit</td>\n",
       "      <td>filled</td>\n",
       "      <td>adjusted filled</td>\n",
       "    </tr>\n",
       "    <tr>\n",
       "      <th>1</th>\n",
       "      <td></td>\n",
       "      <td></td>\n",
       "      <td>Excel</td>\n",
       "      <td></td>\n",
       "      <td>[ppm]</td>\n",
       "      <td>[ppm]</td>\n",
       "      <td>[ppm]</td>\n",
       "      <td>[ppm]</td>\n",
       "      <td>[ppm]</td>\n",
       "      <td>[ppm]</td>\n",
       "    </tr>\n",
       "    <tr>\n",
       "      <th>2</th>\n",
       "      <td>1958</td>\n",
       "      <td>01</td>\n",
       "      <td>21200</td>\n",
       "      <td>1958.0411</td>\n",
       "      <td>-99.99</td>\n",
       "      <td>-99.99</td>\n",
       "      <td>-99.99</td>\n",
       "      <td>-99.99</td>\n",
       "      <td>-99.99</td>\n",
       "      <td>-99.99</td>\n",
       "    </tr>\n",
       "    <tr>\n",
       "      <th>3</th>\n",
       "      <td>1958</td>\n",
       "      <td>02</td>\n",
       "      <td>21231</td>\n",
       "      <td>1958.1260</td>\n",
       "      <td>-99.99</td>\n",
       "      <td>-99.99</td>\n",
       "      <td>-99.99</td>\n",
       "      <td>-99.99</td>\n",
       "      <td>-99.99</td>\n",
       "      <td>-99.99</td>\n",
       "    </tr>\n",
       "    <tr>\n",
       "      <th>4</th>\n",
       "      <td>1958</td>\n",
       "      <td>03</td>\n",
       "      <td>21259</td>\n",
       "      <td>1958.2027</td>\n",
       "      <td>315.70</td>\n",
       "      <td>314.42</td>\n",
       "      <td>316.19</td>\n",
       "      <td>314.90</td>\n",
       "      <td>315.70</td>\n",
       "      <td>314.42</td>\n",
       "    </tr>\n",
       "  </tbody>\n",
       "</table>\n",
       "</div>"
      ],
      "text/plain": [
       "     Yr   Mn      Date        Date        CO2  seasonally          fit  \\\n",
       "0                                                adjusted                \n",
       "1                Excel                  [ppm]      [ppm]         [ppm]   \n",
       "2  1958   01     21200   1958.0411     -99.99      -99.99       -99.99   \n",
       "3  1958   02     21231   1958.1260     -99.99      -99.99       -99.99   \n",
       "4  1958   03     21259   1958.2027     315.70      314.42       316.19   \n",
       "\n",
       "     seasonally           CO2       seasonally  \n",
       "0  adjusted fit        filled  adjusted filled  \n",
       "1         [ppm]         [ppm]            [ppm]  \n",
       "2        -99.99        -99.99           -99.99  \n",
       "3        -99.99        -99.99           -99.99  \n",
       "4        314.90        315.70           314.42  "
      ]
     },
     "execution_count": 4,
     "metadata": {},
     "output_type": "execute_result"
    }
   ],
   "source": [
    "keeling.head()"
   ]
  },
  {
   "cell_type": "code",
   "execution_count": 5,
   "metadata": {},
   "outputs": [
    {
     "data": {
      "text/plain": [
       "Index(['  Yr', ' Mn', '    Date', '      Date', '     CO2', 'seasonally',\n",
       "       '        fit', '  seasonally', '      CO2', ' seasonally'],\n",
       "      dtype='object')"
      ]
     },
     "execution_count": 5,
     "metadata": {},
     "output_type": "execute_result"
    }
   ],
   "source": [
    "keeling.columns"
   ]
  },
  {
   "cell_type": "markdown",
   "metadata": {},
   "source": [
    "The column names are note very informative, so we will change the column names."
   ]
  },
  {
   "cell_type": "code",
   "execution_count": 6,
   "metadata": {
    "collapsed": true
   },
   "outputs": [],
   "source": [
    "cols = ['Yr', 'Mn', 'Date', 'Date1', 'CO2', 'seasonally',\n",
    "       'fit', 'seasonally1', 'filled_CO2', 'filled_seasonally']"
   ]
  },
  {
   "cell_type": "code",
   "execution_count": 7,
   "metadata": {
    "collapsed": true
   },
   "outputs": [],
   "source": [
    "keeling.columns = cols"
   ]
  },
  {
   "cell_type": "markdown",
   "metadata": {},
   "source": [
    "All the columns have 734 rows, but not all rows are actual values."
   ]
  },
  {
   "cell_type": "code",
   "execution_count": 8,
   "metadata": {},
   "outputs": [
    {
     "name": "stdout",
     "output_type": "stream",
     "text": [
      "<class 'pandas.core.frame.DataFrame'>\n",
      "RangeIndex: 734 entries, 0 to 733\n",
      "Data columns (total 10 columns):\n",
      "Yr                   734 non-null object\n",
      "Mn                   734 non-null object\n",
      "Date                 734 non-null object\n",
      "Date1                734 non-null object\n",
      "CO2                  734 non-null object\n",
      "seasonally           734 non-null object\n",
      "fit                  734 non-null object\n",
      "seasonally1          734 non-null object\n",
      "filled_CO2           734 non-null object\n",
      "filled_seasonally    734 non-null object\n",
      "dtypes: object(10)\n",
      "memory usage: 57.4+ KB\n"
     ]
    }
   ],
   "source": [
    "keeling.info()"
   ]
  },
  {
   "cell_type": "code",
   "execution_count": 9,
   "metadata": {},
   "outputs": [
    {
     "data": {
      "text/plain": [
       "(734, 10)"
      ]
     },
     "execution_count": 9,
     "metadata": {},
     "output_type": "execute_result"
    }
   ],
   "source": [
    "keeling.shape"
   ]
  },
  {
   "cell_type": "code",
   "execution_count": 10,
   "metadata": {},
   "outputs": [
    {
     "data": {
      "text/html": [
       "<div>\n",
       "<style>\n",
       "    .dataframe thead tr:only-child th {\n",
       "        text-align: right;\n",
       "    }\n",
       "\n",
       "    .dataframe thead th {\n",
       "        text-align: left;\n",
       "    }\n",
       "\n",
       "    .dataframe tbody tr th {\n",
       "        vertical-align: top;\n",
       "    }\n",
       "</style>\n",
       "<table border=\"1\" class=\"dataframe\">\n",
       "  <thead>\n",
       "    <tr style=\"text-align: right;\">\n",
       "      <th></th>\n",
       "      <th>Yr</th>\n",
       "      <th>Mn</th>\n",
       "      <th>Date</th>\n",
       "      <th>Date1</th>\n",
       "      <th>CO2</th>\n",
       "      <th>seasonally</th>\n",
       "      <th>fit</th>\n",
       "      <th>seasonally1</th>\n",
       "      <th>filled_CO2</th>\n",
       "      <th>filled_seasonally</th>\n",
       "    </tr>\n",
       "  </thead>\n",
       "  <tbody>\n",
       "    <tr>\n",
       "      <th>0</th>\n",
       "      <td></td>\n",
       "      <td></td>\n",
       "      <td></td>\n",
       "      <td></td>\n",
       "      <td></td>\n",
       "      <td>adjusted</td>\n",
       "      <td></td>\n",
       "      <td>adjusted fit</td>\n",
       "      <td>filled</td>\n",
       "      <td>adjusted filled</td>\n",
       "    </tr>\n",
       "    <tr>\n",
       "      <th>1</th>\n",
       "      <td></td>\n",
       "      <td></td>\n",
       "      <td>Excel</td>\n",
       "      <td></td>\n",
       "      <td>[ppm]</td>\n",
       "      <td>[ppm]</td>\n",
       "      <td>[ppm]</td>\n",
       "      <td>[ppm]</td>\n",
       "      <td>[ppm]</td>\n",
       "      <td>[ppm]</td>\n",
       "    </tr>\n",
       "    <tr>\n",
       "      <th>2</th>\n",
       "      <td>1958</td>\n",
       "      <td>01</td>\n",
       "      <td>21200</td>\n",
       "      <td>1958.0411</td>\n",
       "      <td>-99.99</td>\n",
       "      <td>-99.99</td>\n",
       "      <td>-99.99</td>\n",
       "      <td>-99.99</td>\n",
       "      <td>-99.99</td>\n",
       "      <td>-99.99</td>\n",
       "    </tr>\n",
       "    <tr>\n",
       "      <th>3</th>\n",
       "      <td>1958</td>\n",
       "      <td>02</td>\n",
       "      <td>21231</td>\n",
       "      <td>1958.1260</td>\n",
       "      <td>-99.99</td>\n",
       "      <td>-99.99</td>\n",
       "      <td>-99.99</td>\n",
       "      <td>-99.99</td>\n",
       "      <td>-99.99</td>\n",
       "      <td>-99.99</td>\n",
       "    </tr>\n",
       "    <tr>\n",
       "      <th>4</th>\n",
       "      <td>1958</td>\n",
       "      <td>03</td>\n",
       "      <td>21259</td>\n",
       "      <td>1958.2027</td>\n",
       "      <td>315.70</td>\n",
       "      <td>314.42</td>\n",
       "      <td>316.19</td>\n",
       "      <td>314.90</td>\n",
       "      <td>315.70</td>\n",
       "      <td>314.42</td>\n",
       "    </tr>\n",
       "  </tbody>\n",
       "</table>\n",
       "</div>"
      ],
      "text/plain": [
       "     Yr   Mn      Date       Date1        CO2  seasonally          fit  \\\n",
       "0                                                adjusted                \n",
       "1                Excel                  [ppm]      [ppm]         [ppm]   \n",
       "2  1958   01     21200   1958.0411     -99.99      -99.99       -99.99   \n",
       "3  1958   02     21231   1958.1260     -99.99      -99.99       -99.99   \n",
       "4  1958   03     21259   1958.2027     315.70      314.42       316.19   \n",
       "\n",
       "    seasonally1    filled_CO2 filled_seasonally  \n",
       "0  adjusted fit        filled   adjusted filled  \n",
       "1         [ppm]         [ppm]             [ppm]  \n",
       "2        -99.99        -99.99            -99.99  \n",
       "3        -99.99        -99.99            -99.99  \n",
       "4        314.90        315.70            314.42  "
      ]
     },
     "execution_count": 10,
     "metadata": {},
     "output_type": "execute_result"
    }
   ],
   "source": [
    "keeling.head()"
   ]
  },
  {
   "cell_type": "code",
   "execution_count": 11,
   "metadata": {
    "collapsed": true
   },
   "outputs": [],
   "source": [
    "keeling = keeling.iloc[2:]"
   ]
  },
  {
   "cell_type": "markdown",
   "metadata": {},
   "source": [
    "We remove the first 2 rows, because they don't contain any numerical values of interest."
   ]
  },
  {
   "cell_type": "code",
   "execution_count": 12,
   "metadata": {},
   "outputs": [
    {
     "data": {
      "text/html": [
       "<div>\n",
       "<style>\n",
       "    .dataframe thead tr:only-child th {\n",
       "        text-align: right;\n",
       "    }\n",
       "\n",
       "    .dataframe thead th {\n",
       "        text-align: left;\n",
       "    }\n",
       "\n",
       "    .dataframe tbody tr th {\n",
       "        vertical-align: top;\n",
       "    }\n",
       "</style>\n",
       "<table border=\"1\" class=\"dataframe\">\n",
       "  <thead>\n",
       "    <tr style=\"text-align: right;\">\n",
       "      <th></th>\n",
       "      <th>Yr</th>\n",
       "      <th>Mn</th>\n",
       "      <th>Date</th>\n",
       "      <th>Date1</th>\n",
       "      <th>CO2</th>\n",
       "      <th>seasonally</th>\n",
       "      <th>fit</th>\n",
       "      <th>seasonally1</th>\n",
       "      <th>filled_CO2</th>\n",
       "      <th>filled_seasonally</th>\n",
       "    </tr>\n",
       "  </thead>\n",
       "  <tbody>\n",
       "    <tr>\n",
       "      <th>2</th>\n",
       "      <td>1958</td>\n",
       "      <td>01</td>\n",
       "      <td>21200</td>\n",
       "      <td>1958.0411</td>\n",
       "      <td>-99.99</td>\n",
       "      <td>-99.99</td>\n",
       "      <td>-99.99</td>\n",
       "      <td>-99.99</td>\n",
       "      <td>-99.99</td>\n",
       "      <td>-99.99</td>\n",
       "    </tr>\n",
       "    <tr>\n",
       "      <th>3</th>\n",
       "      <td>1958</td>\n",
       "      <td>02</td>\n",
       "      <td>21231</td>\n",
       "      <td>1958.1260</td>\n",
       "      <td>-99.99</td>\n",
       "      <td>-99.99</td>\n",
       "      <td>-99.99</td>\n",
       "      <td>-99.99</td>\n",
       "      <td>-99.99</td>\n",
       "      <td>-99.99</td>\n",
       "    </tr>\n",
       "    <tr>\n",
       "      <th>4</th>\n",
       "      <td>1958</td>\n",
       "      <td>03</td>\n",
       "      <td>21259</td>\n",
       "      <td>1958.2027</td>\n",
       "      <td>315.70</td>\n",
       "      <td>314.42</td>\n",
       "      <td>316.19</td>\n",
       "      <td>314.90</td>\n",
       "      <td>315.70</td>\n",
       "      <td>314.42</td>\n",
       "    </tr>\n",
       "    <tr>\n",
       "      <th>5</th>\n",
       "      <td>1958</td>\n",
       "      <td>04</td>\n",
       "      <td>21290</td>\n",
       "      <td>1958.2877</td>\n",
       "      <td>317.46</td>\n",
       "      <td>315.15</td>\n",
       "      <td>317.30</td>\n",
       "      <td>314.98</td>\n",
       "      <td>317.46</td>\n",
       "      <td>315.15</td>\n",
       "    </tr>\n",
       "    <tr>\n",
       "      <th>6</th>\n",
       "      <td>1958</td>\n",
       "      <td>05</td>\n",
       "      <td>21320</td>\n",
       "      <td>1958.3699</td>\n",
       "      <td>317.51</td>\n",
       "      <td>314.71</td>\n",
       "      <td>317.85</td>\n",
       "      <td>315.06</td>\n",
       "      <td>317.51</td>\n",
       "      <td>314.71</td>\n",
       "    </tr>\n",
       "  </tbody>\n",
       "</table>\n",
       "</div>"
      ],
      "text/plain": [
       "     Yr   Mn      Date       Date1        CO2 seasonally          fit  \\\n",
       "2  1958   01     21200   1958.0411     -99.99     -99.99       -99.99   \n",
       "3  1958   02     21231   1958.1260     -99.99     -99.99       -99.99   \n",
       "4  1958   03     21259   1958.2027     315.70     314.42       316.19   \n",
       "5  1958   04     21290   1958.2877     317.46     315.15       317.30   \n",
       "6  1958   05     21320   1958.3699     317.51     314.71       317.85   \n",
       "\n",
       "  seasonally1   filled_CO2 filled_seasonally  \n",
       "2      -99.99       -99.99            -99.99  \n",
       "3      -99.99       -99.99            -99.99  \n",
       "4      314.90       315.70            314.42  \n",
       "5      314.98       317.46            315.15  \n",
       "6      315.06       317.51            314.71  "
      ]
     },
     "execution_count": 12,
     "metadata": {},
     "output_type": "execute_result"
    }
   ],
   "source": [
    "keeling.head()"
   ]
  },
  {
   "cell_type": "code",
   "execution_count": 13,
   "metadata": {},
   "outputs": [
    {
     "data": {
      "text/html": [
       "<div>\n",
       "<style>\n",
       "    .dataframe thead tr:only-child th {\n",
       "        text-align: right;\n",
       "    }\n",
       "\n",
       "    .dataframe thead th {\n",
       "        text-align: left;\n",
       "    }\n",
       "\n",
       "    .dataframe tbody tr th {\n",
       "        vertical-align: top;\n",
       "    }\n",
       "</style>\n",
       "<table border=\"1\" class=\"dataframe\">\n",
       "  <thead>\n",
       "    <tr style=\"text-align: right;\">\n",
       "      <th></th>\n",
       "      <th>Yr</th>\n",
       "      <th>Mn</th>\n",
       "      <th>Date</th>\n",
       "      <th>Date1</th>\n",
       "      <th>CO2</th>\n",
       "      <th>seasonally</th>\n",
       "      <th>fit</th>\n",
       "      <th>seasonally1</th>\n",
       "      <th>filled_CO2</th>\n",
       "      <th>filled_seasonally</th>\n",
       "    </tr>\n",
       "  </thead>\n",
       "  <tbody>\n",
       "    <tr>\n",
       "      <th>729</th>\n",
       "      <td>2018</td>\n",
       "      <td>08</td>\n",
       "      <td>43327</td>\n",
       "      <td>2018.6219</td>\n",
       "      <td>407.10</td>\n",
       "      <td>408.62</td>\n",
       "      <td>407.14</td>\n",
       "      <td>408.70</td>\n",
       "      <td>407.10</td>\n",
       "      <td>408.62</td>\n",
       "    </tr>\n",
       "    <tr>\n",
       "      <th>730</th>\n",
       "      <td>2018</td>\n",
       "      <td>09</td>\n",
       "      <td>43358</td>\n",
       "      <td>2018.7068</td>\n",
       "      <td>405.59</td>\n",
       "      <td>409.08</td>\n",
       "      <td>405.41</td>\n",
       "      <td>408.92</td>\n",
       "      <td>405.59</td>\n",
       "      <td>409.08</td>\n",
       "    </tr>\n",
       "    <tr>\n",
       "      <th>731</th>\n",
       "      <td>2018</td>\n",
       "      <td>10</td>\n",
       "      <td>43388</td>\n",
       "      <td>2018.7890</td>\n",
       "      <td>406.00</td>\n",
       "      <td>409.62</td>\n",
       "      <td>-99.99</td>\n",
       "      <td>-99.99</td>\n",
       "      <td>406.00</td>\n",
       "      <td>409.62</td>\n",
       "    </tr>\n",
       "    <tr>\n",
       "      <th>732</th>\n",
       "      <td>2018</td>\n",
       "      <td>11</td>\n",
       "      <td>43419</td>\n",
       "      <td>2018.8740</td>\n",
       "      <td>-99.99</td>\n",
       "      <td>-99.99</td>\n",
       "      <td>-99.99</td>\n",
       "      <td>-99.99</td>\n",
       "      <td>-99.99</td>\n",
       "      <td>-99.99</td>\n",
       "    </tr>\n",
       "    <tr>\n",
       "      <th>733</th>\n",
       "      <td>2018</td>\n",
       "      <td>12</td>\n",
       "      <td>43449</td>\n",
       "      <td>2018.9562</td>\n",
       "      <td>-99.99</td>\n",
       "      <td>-99.99</td>\n",
       "      <td>-99.99</td>\n",
       "      <td>-99.99</td>\n",
       "      <td>-99.99</td>\n",
       "      <td>-99.99</td>\n",
       "    </tr>\n",
       "  </tbody>\n",
       "</table>\n",
       "</div>"
      ],
      "text/plain": [
       "       Yr   Mn      Date       Date1        CO2 seasonally          fit  \\\n",
       "729  2018   08     43327   2018.6219     407.10     408.62       407.14   \n",
       "730  2018   09     43358   2018.7068     405.59     409.08       405.41   \n",
       "731  2018   10     43388   2018.7890     406.00     409.62       -99.99   \n",
       "732  2018   11     43419   2018.8740     -99.99     -99.99       -99.99   \n",
       "733  2018   12     43449   2018.9562     -99.99     -99.99       -99.99   \n",
       "\n",
       "    seasonally1   filled_CO2 filled_seasonally  \n",
       "729      408.70       407.10            408.62  \n",
       "730      408.92       405.59            409.08  \n",
       "731      -99.99       406.00            409.62  \n",
       "732      -99.99       -99.99            -99.99  \n",
       "733      -99.99       -99.99            -99.99  "
      ]
     },
     "execution_count": 13,
     "metadata": {},
     "output_type": "execute_result"
    }
   ],
   "source": [
    "keeling.tail()"
   ]
  },
  {
   "cell_type": "code",
   "execution_count": 14,
   "metadata": {
    "collapsed": true
   },
   "outputs": [],
   "source": [
    "co2 = keeling[['Yr','CO2']]"
   ]
  },
  {
   "cell_type": "code",
   "execution_count": 15,
   "metadata": {
    "collapsed": true
   },
   "outputs": [],
   "source": [
    "co2 = co2[co2['CO2'] != '   -99.99']"
   ]
  },
  {
   "cell_type": "markdown",
   "metadata": {},
   "source": [
    "The value of -99.99 is not a real value, the concentration of CO2 cannot have negative values, so we will remove it, from the dataframe."
   ]
  },
  {
   "cell_type": "code",
   "execution_count": 16,
   "metadata": {},
   "outputs": [
    {
     "data": {
      "text/html": [
       "<div>\n",
       "<style>\n",
       "    .dataframe thead tr:only-child th {\n",
       "        text-align: right;\n",
       "    }\n",
       "\n",
       "    .dataframe thead th {\n",
       "        text-align: left;\n",
       "    }\n",
       "\n",
       "    .dataframe tbody tr th {\n",
       "        vertical-align: top;\n",
       "    }\n",
       "</style>\n",
       "<table border=\"1\" class=\"dataframe\">\n",
       "  <thead>\n",
       "    <tr style=\"text-align: right;\">\n",
       "      <th></th>\n",
       "      <th>Yr</th>\n",
       "      <th>CO2</th>\n",
       "    </tr>\n",
       "  </thead>\n",
       "  <tbody>\n",
       "    <tr>\n",
       "      <th>4</th>\n",
       "      <td>1958</td>\n",
       "      <td>315.70</td>\n",
       "    </tr>\n",
       "    <tr>\n",
       "      <th>5</th>\n",
       "      <td>1958</td>\n",
       "      <td>317.46</td>\n",
       "    </tr>\n",
       "    <tr>\n",
       "      <th>6</th>\n",
       "      <td>1958</td>\n",
       "      <td>317.51</td>\n",
       "    </tr>\n",
       "    <tr>\n",
       "      <th>8</th>\n",
       "      <td>1958</td>\n",
       "      <td>315.86</td>\n",
       "    </tr>\n",
       "    <tr>\n",
       "      <th>9</th>\n",
       "      <td>1958</td>\n",
       "      <td>314.93</td>\n",
       "    </tr>\n",
       "  </tbody>\n",
       "</table>\n",
       "</div>"
      ],
      "text/plain": [
       "     Yr        CO2\n",
       "4  1958     315.70\n",
       "5  1958     317.46\n",
       "6  1958     317.51\n",
       "8  1958     315.86\n",
       "9  1958     314.93"
      ]
     },
     "execution_count": 16,
     "metadata": {},
     "output_type": "execute_result"
    }
   ],
   "source": [
    "co2.head()"
   ]
  },
  {
   "cell_type": "code",
   "execution_count": 17,
   "metadata": {
    "collapsed": true
   },
   "outputs": [],
   "source": [
    "co2 = pd.to_numeric(co2['CO2'])"
   ]
  },
  {
   "cell_type": "markdown",
   "metadata": {},
   "source": [
    "The values are changed to numerical values."
   ]
  },
  {
   "cell_type": "code",
   "execution_count": 18,
   "metadata": {},
   "outputs": [
    {
     "data": {
      "image/png": "[encoded data removed]",
      "text/plain": [
       "<matplotlib.figure.Figure at 0x15b281ab208>"
      ]
     },
     "metadata": {},
     "output_type": "display_data"
    }
   ],
   "source": [
    "plt.figure(figsize=(15,10))\n",
    "plt.plot(co2)\n",
    "plt.title('Keeling Curve')\n",
    "plt.xlabel('time')\n",
    "plt.ylabel('CO2 concentration in ppm')\n",
    "plt.show()"
   ]
  },
  {
   "cell_type": "markdown",
   "metadata": {},
   "source": [
    "When we plot the date we can easily see the upward trend. The increase also is speeding up with time. It has gone from less then 320 ppm in 1958 to more then 400 today. This is about close of a third of increase in 60 years. There is also a strong seasonal component on an yearly basis. The concentration tends to peak in spring mostly in May and then decline in summer and bottom out in September. This is due to the greening of temperate forests in the northern hemisphere (most of the forest a situated in the north) and they sequence CO2 vie photosynthesis. There are also random factors such as like the Pacific Decadal Oscillation. El Nino years tend to have larger increases. For more information see here. https://en.wikipedia.org/wiki/Pacific_decadal_oscillation. There are also other factors like economic cycles and large volcanic eruptions. \n",
    "<br>\n",
    "A popular approach to model such development is the Holt-Winters model, for more information on the subject see here https://otexts.org/fpp2/holt-winters.html. But we will concentrate on neural networks this time."
   ]
  },
  {
   "cell_type": "code",
   "execution_count": 19,
   "metadata": {},
   "outputs": [
    {
     "data": {
      "text/plain": [
       "723"
      ]
     },
     "execution_count": 19,
     "metadata": {},
     "output_type": "execute_result"
    }
   ],
   "source": [
    "co2.count()"
   ]
  },
  {
   "cell_type": "markdown",
   "metadata": {},
   "source": [
    "We split the data into train_set all but the last 12 values and a test set the values for last year."
   ]
  },
  {
   "cell_type": "code",
   "execution_count": 20,
   "metadata": {
    "collapsed": true
   },
   "outputs": [],
   "source": [
    "train_set = co2.iloc[:711]"
   ]
  },
  {
   "cell_type": "code",
   "execution_count": 21,
   "metadata": {
    "collapsed": true
   },
   "outputs": [],
   "source": [
    "test_set = co2.iloc[711:]"
   ]
  },
  {
   "cell_type": "markdown",
   "metadata": {},
   "source": [
    "## Batch Function\n",
    "The neural network train set is going to be fed with batches, so we will create a next_batch function, to take the train set, the batch size and the steps that returns a reshaped batches. We start from a random position."
   ]
  },
  {
   "cell_type": "code",
   "execution_count": 22,
   "metadata": {
    "collapsed": true
   },
   "outputs": [],
   "source": [
    "def next_batch(training_data,batch_size,steps):\n",
    "    \n",
    "    # start from a random starting point for each batch\n",
    "    rand_start = np.random.randint(0,len(training_data)-steps) \n",
    "\n",
    "    # Create Y data for time series in the batches\n",
    "    y_batch = np.array(training_data[rand_start:rand_start+steps+1]).reshape(1,steps+1)\n",
    "\n",
    "    return y_batch[:, :-1].reshape(-1, steps, 1), y_batch[:, 1:].reshape(-1, steps, 1) "
   ]
  },
  {
   "cell_type": "markdown",
   "metadata": {},
   "source": [
    "## Basic LSTM cell\n",
    "We have time series data, so the future values depend on the past values. We will use the RNN (recurrent neural network). One of the most popular types developed in the late 90s is LSTM or Long Short Term Memory. For more information check here http://colah.github.io/posts/2015-08-Understanding-LSTMs/. \n",
    "<br>\n",
    "We start with the following parameters, everyone can change the values to try out different outcomes."
   ]
  },
  {
   "cell_type": "code",
   "execution_count": 23,
   "metadata": {
    "collapsed": true
   },
   "outputs": [],
   "source": [
    "num_inputs = 1\n",
    "num_time_steps = 12\n",
    "num_neurons = 100\n",
    "num_outputs = 1\n",
    "learning_rate = 0.03 \n",
    "num_train_iterations = 4000\n",
    "batch_size = 1"
   ]
  },
  {
   "cell_type": "markdown",
   "metadata": {},
   "source": [
    "The X and Y placeholders are set with a float32, and withe the shape None, number of time steps and number of inputs, or outputs respectively for y. "
   ]
  },
  {
   "cell_type": "code",
   "execution_count": 24,
   "metadata": {
    "collapsed": true
   },
   "outputs": [],
   "source": [
    "X = tf.placeholder(tf.float32, [None, num_time_steps, num_inputs])\n",
    "y = tf.placeholder(tf.float32, [None, num_time_steps, num_outputs])"
   ]
  },
  {
   "cell_type": "markdown",
   "metadata": {},
   "source": [
    "The cell is created with the Output Projection Wrapper is going to be used with the Basic LSTM cell with an activation function ReLu."
   ]
  },
  {
   "cell_type": "code",
   "execution_count": 25,
   "metadata": {
    "collapsed": true
   },
   "outputs": [],
   "source": [
    "cell = tf.contrib.rnn.OutputProjectionWrapper(\n",
    "    tf.contrib.rnn.BasicLSTMCell(num_units=num_neurons, activation=tf.nn.relu),\n",
    "    output_size=num_outputs) "
   ]
  },
  {
   "cell_type": "markdown",
   "metadata": {},
   "source": [
    "Now we pass in the cell variable into tf.nn.dynamic_rnn, along with your first placeholder X."
   ]
  },
  {
   "cell_type": "code",
   "execution_count": 26,
   "metadata": {
    "collapsed": true
   },
   "outputs": [],
   "source": [
    "outputs, states = tf.nn.dynamic_rnn(cell, X, dtype=tf.float32)\n",
    "# get the ouputs and the state"
   ]
  },
  {
   "cell_type": "markdown",
   "metadata": {},
   "source": [
    "### Loss Function and Optimizer\n",
    "The Mean Squared Error Loss Function is used and it is minimized an AdamOptimizer."
   ]
  },
  {
   "cell_type": "code",
   "execution_count": 27,
   "metadata": {
    "collapsed": true
   },
   "outputs": [],
   "source": [
    "loss = tf.reduce_mean(tf.square(outputs - y)) # MSE\n",
    "optimizer = tf.train.AdamOptimizer(learning_rate=learning_rate)\n",
    "train = optimizer.minimize(loss)"
   ]
  },
  {
   "cell_type": "markdown",
   "metadata": {},
   "source": [
    "Initiation of the the global variables."
   ]
  },
  {
   "cell_type": "code",
   "execution_count": 28,
   "metadata": {
    "collapsed": true
   },
   "outputs": [],
   "source": [
    "init = tf.global_variables_initializer()"
   ]
  },
  {
   "cell_type": "markdown",
   "metadata": {},
   "source": [
    "Create a saver for the model."
   ]
  },
  {
   "cell_type": "code",
   "execution_count": 29,
   "metadata": {
    "collapsed": true
   },
   "outputs": [],
   "source": [
    "saver = tf.train.Saver()"
   ]
  },
  {
   "cell_type": "markdown",
   "metadata": {},
   "source": [
    "### Session\n",
    "We load the session and print the MSE on every 100 steps and save it in the error list. Lastly we save the model as ./LSTMmodel"
   ]
  },
  {
   "cell_type": "code",
   "execution_count": 30,
   "metadata": {},
   "outputs": [
    {
     "name": "stdout",
     "output_type": "stream",
     "text": [
      "0 \tMSE: 104691.51\n",
      "100 \tMSE: 41.33569\n",
      "200 \tMSE: 20.896723\n",
      "300 \tMSE: 11.607898\n",
      "400 \tMSE: 12.795909\n",
      "500 \tMSE: 21.7078\n",
      "600 \tMSE: 78.48446\n",
      "700 \tMSE: 21.00772\n",
      "800 \tMSE: 4012.907\n",
      "900 \tMSE: 54.797012\n",
      "1000 \tMSE: 5.400862\n",
      "1100 \tMSE: 5.9718614\n",
      "1200 \tMSE: 10.95897\n",
      "1300 \tMSE: 7.2357545\n",
      "1400 \tMSE: 63.508503\n",
      "1500 \tMSE: 35.762882\n",
      "1600 \tMSE: 12.054019\n",
      "1700 \tMSE: 27.530197\n",
      "1800 \tMSE: 71.72806\n",
      "1900 \tMSE: 37.235126\n",
      "2000 \tMSE: 63.514843\n",
      "2100 \tMSE: 91.99105\n",
      "2200 \tMSE: 108.58115\n",
      "2300 \tMSE: 22.498503\n",
      "2400 \tMSE: 61.594982\n",
      "2500 \tMSE: 14.713127\n",
      "2600 \tMSE: 44.106678\n",
      "2700 \tMSE: 29.56426\n",
      "2800 \tMSE: 5.798653\n",
      "2900 \tMSE: 5.353233\n",
      "3000 \tMSE: 17.659689\n",
      "3100 \tMSE: 22.494814\n",
      "3200 \tMSE: 18.925653\n",
      "3300 \tMSE: 11.437095\n",
      "3400 \tMSE: 100.82474\n",
      "3500 \tMSE: 40.54217\n",
      "3600 \tMSE: 254.10039\n",
      "3700 \tMSE: 24.54579\n",
      "3800 \tMSE: 189.86641\n",
      "3900 \tMSE: 19.717997\n"
     ]
    }
   ],
   "source": [
    "error = []\n",
    "with tf.Session() as sess:\n",
    "    sess.run(init)\n",
    "    \n",
    "    for iteration in range(num_train_iterations):\n",
    "        \n",
    "        X_batch, y_batch = next_batch(train_set,batch_size,num_time_steps)\n",
    "        sess.run(train, feed_dict={X: X_batch, y: y_batch})\n",
    "        \n",
    "        if iteration % 100 == 0:\n",
    "            \n",
    "            mse = loss.eval(feed_dict={X: X_batch, y: y_batch}) # we pass a feed dictionary with the batches\n",
    "            print(iteration, \"\\tMSE:\", mse)\n",
    "            error.append(mse)\n",
    "    \n",
    "    # Save Model for Later\n",
    "    saver.save(sess, \"./LSTMmodel\")"
   ]
  },
  {
   "cell_type": "code",
   "execution_count": 31,
   "metadata": {},
   "outputs": [
    {
     "data": {
      "image/png": "[encoded data removed]",
      "text/plain": [
       "<matplotlib.figure.Figure at 0x15b2c0ed2b0>"
      ]
     },
     "metadata": {},
     "output_type": "display_data"
    }
   ],
   "source": [
    "plt.figure(figsize=(10,7))\n",
    "plt.plot(error)\n",
    "plt.title('MSE for the training')\n",
    "plt.ylabel('mse')\n",
    "plt.xlabel('epochs')\n",
    "plt.show()"
   ]
  },
  {
   "cell_type": "markdown",
   "metadata": {},
   "source": [
    "We plot the MSE and see a rapid drop at the beginning. Due to the fact the first values are significantly larger then the later we don't see much change there."
   ]
  },
  {
   "cell_type": "code",
   "execution_count": 32,
   "metadata": {},
   "outputs": [
    {
     "data": {
      "image/png": "[encoded data removed]",
      "text/plain": [
       "<matplotlib.figure.Figure at 0x15b2b9846d8>"
      ]
     },
     "metadata": {},
     "output_type": "display_data"
    }
   ],
   "source": [
    "plt.figure(figsize=(10,7))\n",
    "plt.plot(error[4:])\n",
    "plt.title('MSE for the training without first 100 epochs')\n",
    "plt.ylabel('mse')\n",
    "plt.xlabel('epochs')\n",
    "plt.show()"
   ]
  },
  {
   "cell_type": "markdown",
   "metadata": {},
   "source": [
    "Now we remove the first 4 MSE in the error list. We see that there is no dramatic change anymore."
   ]
  },
  {
   "cell_type": "markdown",
   "metadata": {},
   "source": [
    "### Predicting Values "
   ]
  },
  {
   "cell_type": "markdown",
   "metadata": {},
   "source": [
    "We print the test set."
   ]
  },
  {
   "cell_type": "code",
   "execution_count": 33,
   "metadata": {},
   "outputs": [
    {
     "data": {
      "text/plain": [
       "720    405.17\n",
       "721    406.75\n",
       "722    408.05\n",
       "723    408.34\n",
       "724    409.26\n",
       "725    410.31\n",
       "726    411.31\n",
       "727    410.88\n",
       "728    408.90\n",
       "729    407.10\n",
       "730    405.59\n",
       "731    406.00\n",
       "Name: CO2, dtype: float64"
      ]
     },
     "execution_count": 33,
     "metadata": {},
     "output_type": "execute_result"
    }
   ],
   "source": [
    "test_set"
   ]
  },
  {
   "cell_type": "markdown",
   "metadata": {},
   "source": [
    "We now use the model to generate 12 new values to measure them against the test set."
   ]
  },
  {
   "cell_type": "code",
   "execution_count": 34,
   "metadata": {},
   "outputs": [
    {
     "name": "stdout",
     "output_type": "stream",
     "text": [
      "INFO:tensorflow:Restoring parameters from ./LSTMmodel\n"
     ]
    }
   ],
   "source": [
    "with tf.Session() as sess:\n",
    "    \n",
    "    # restore the model via the saver\n",
    "    saver.restore(sess, \"./LSTMmodel\")\n",
    "\n",
    "    train_seed = list(train_set[-12:])\n",
    "     \n",
    "    for iteration in range(12):\n",
    "        X_batch = np.array(train_seed[-num_time_steps:]).reshape(1, num_time_steps, 1)\n",
    "        y_pred = sess.run(outputs, feed_dict={X: X_batch})\n",
    "        train_seed.append(y_pred[0, -1, 0])"
   ]
  },
  {
   "cell_type": "markdown",
   "metadata": {},
   "source": [
    "Print the train_seed."
   ]
  },
  {
   "cell_type": "code",
   "execution_count": 35,
   "metadata": {},
   "outputs": [
    {
     "data": {
      "text/plain": [
       "[403.64,\n",
       " 404.55,\n",
       " 406.07,\n",
       " 406.64,\n",
       " 407.06,\n",
       " 408.95,\n",
       " 409.91,\n",
       " 409.12,\n",
       " 407.2,\n",
       " 405.24,\n",
       " 403.27,\n",
       " 403.64,\n",
       " 405.00867,\n",
       " 406.67136,\n",
       " 407.5014,\n",
       " 407.98978,\n",
       " 408.837,\n",
       " 411.45963,\n",
       " 411.31778,\n",
       " 411.0932,\n",
       " 407.87048,\n",
       " 406.785,\n",
       " 403.4019,\n",
       " 406.73233]"
      ]
     },
     "execution_count": 35,
     "metadata": {},
     "output_type": "execute_result"
    }
   ],
   "source": [
    "train_seed"
   ]
  },
  {
   "cell_type": "code",
   "execution_count": 36,
   "metadata": {},
   "outputs": [
    {
     "data": {
      "text/plain": [
       "24"
      ]
     },
     "execution_count": 36,
     "metadata": {},
     "output_type": "execute_result"
    }
   ],
   "source": [
    "len(train_seed)"
   ]
  },
  {
   "cell_type": "code",
   "execution_count": 37,
   "metadata": {
    "collapsed": true
   },
   "outputs": [],
   "source": [
    "gen = train_seed[12:]"
   ]
  },
  {
   "cell_type": "markdown",
   "metadata": {},
   "source": [
    "We now get the last 12 values, the generated values. Create a copy of the test set and make it to a dataframe. Lastly we add a new column with the generated data."
   ]
  },
  {
   "cell_type": "code",
   "execution_count": 38,
   "metadata": {
    "collapsed": true
   },
   "outputs": [],
   "source": [
    "test_copy = test_set.copy(deep=True)"
   ]
  },
  {
   "cell_type": "code",
   "execution_count": 39,
   "metadata": {
    "collapsed": true
   },
   "outputs": [],
   "source": [
    "test_copy = pd.DataFrame(test_copy)"
   ]
  },
  {
   "cell_type": "code",
   "execution_count": 40,
   "metadata": {
    "collapsed": true
   },
   "outputs": [],
   "source": [
    "test_copy['Generated'] = gen"
   ]
  },
  {
   "cell_type": "code",
   "execution_count": 41,
   "metadata": {},
   "outputs": [
    {
     "data": {
      "text/html": [
       "<div>\n",
       "<style>\n",
       "    .dataframe thead tr:only-child th {\n",
       "        text-align: right;\n",
       "    }\n",
       "\n",
       "    .dataframe thead th {\n",
       "        text-align: left;\n",
       "    }\n",
       "\n",
       "    .dataframe tbody tr th {\n",
       "        vertical-align: top;\n",
       "    }\n",
       "</style>\n",
       "<table border=\"1\" class=\"dataframe\">\n",
       "  <thead>\n",
       "    <tr style=\"text-align: right;\">\n",
       "      <th></th>\n",
       "      <th>CO2</th>\n",
       "      <th>Generated</th>\n",
       "    </tr>\n",
       "  </thead>\n",
       "  <tbody>\n",
       "    <tr>\n",
       "      <th>720</th>\n",
       "      <td>405.17</td>\n",
       "      <td>405.008667</td>\n",
       "    </tr>\n",
       "    <tr>\n",
       "      <th>721</th>\n",
       "      <td>406.75</td>\n",
       "      <td>406.671356</td>\n",
       "    </tr>\n",
       "    <tr>\n",
       "      <th>722</th>\n",
       "      <td>408.05</td>\n",
       "      <td>407.501404</td>\n",
       "    </tr>\n",
       "    <tr>\n",
       "      <th>723</th>\n",
       "      <td>408.34</td>\n",
       "      <td>407.989777</td>\n",
       "    </tr>\n",
       "    <tr>\n",
       "      <th>724</th>\n",
       "      <td>409.26</td>\n",
       "      <td>408.837006</td>\n",
       "    </tr>\n",
       "    <tr>\n",
       "      <th>725</th>\n",
       "      <td>410.31</td>\n",
       "      <td>411.459625</td>\n",
       "    </tr>\n",
       "    <tr>\n",
       "      <th>726</th>\n",
       "      <td>411.31</td>\n",
       "      <td>411.317780</td>\n",
       "    </tr>\n",
       "    <tr>\n",
       "      <th>727</th>\n",
       "      <td>410.88</td>\n",
       "      <td>411.093201</td>\n",
       "    </tr>\n",
       "    <tr>\n",
       "      <th>728</th>\n",
       "      <td>408.90</td>\n",
       "      <td>407.870483</td>\n",
       "    </tr>\n",
       "    <tr>\n",
       "      <th>729</th>\n",
       "      <td>407.10</td>\n",
       "      <td>406.785004</td>\n",
       "    </tr>\n",
       "    <tr>\n",
       "      <th>730</th>\n",
       "      <td>405.59</td>\n",
       "      <td>403.401886</td>\n",
       "    </tr>\n",
       "    <tr>\n",
       "      <th>731</th>\n",
       "      <td>406.00</td>\n",
       "      <td>406.732330</td>\n",
       "    </tr>\n",
       "  </tbody>\n",
       "</table>\n",
       "</div>"
      ],
      "text/plain": [
       "        CO2   Generated\n",
       "720  405.17  405.008667\n",
       "721  406.75  406.671356\n",
       "722  408.05  407.501404\n",
       "723  408.34  407.989777\n",
       "724  409.26  408.837006\n",
       "725  410.31  411.459625\n",
       "726  411.31  411.317780\n",
       "727  410.88  411.093201\n",
       "728  408.90  407.870483\n",
       "729  407.10  406.785004\n",
       "730  405.59  403.401886\n",
       "731  406.00  406.732330"
      ]
     },
     "execution_count": 41,
     "metadata": {},
     "output_type": "execute_result"
    }
   ],
   "source": [
    "test_copy"
   ]
  },
  {
   "cell_type": "markdown",
   "metadata": {},
   "source": [
    "### Evaluate the predictions\n",
    "We plot the 2 columns on the same plot. There are some differences, that are not to large, but we seem to getting the trend and the seasonality. This is the best performing model so far. I have tried other algorithms, but none come so close to this one. Some are very far off, others capture to some extent the seasonality. 3 algorithms have been displayed."
   ]
  },
  {
   "cell_type": "code",
   "execution_count": 42,
   "metadata": {},
   "outputs": [
    {
     "data": {
      "image/png": "[encoded data removed]",
      "text/plain": [
       "<matplotlib.figure.Figure at 0x15b2b99aa58>"
      ]
     },
     "metadata": {},
     "output_type": "display_data"
    }
   ],
   "source": [
    "plt.figure(figsize=(10,7))\n",
    "plt.plot(test_copy['CO2'], marker='o', color='blue', label='actual')\n",
    "plt.plot(test_copy['Generated'], marker='o', color='red', label='predicted')\n",
    "plt.legend(loc='upper right') \n",
    "plt.title('Predicted vs real values for last 12 months')\n",
    "plt.xlabel('time')\n",
    "plt.ylabel('CO2 concentration in ppm')\n",
    "plt.show()\n"
   ]
  },
  {
   "cell_type": "markdown",
   "metadata": {},
   "source": [
    "We will try other architecture in Part 2 and Part 3 one a different Jupyter Notebook. Due to the fact the preprocessing and EDA has already been done, we will not go into much detail there."
   ]
  },
  {
   "cell_type": "markdown",
   "metadata": {
    "collapsed": true
   },
   "source": [
    "### Conclusion\n",
    "Most of the models don't perform very well. More deep networks should be tried to see is they perform better like https://machinelearningmastery.com/stacked-long-short-term-memory-networks/."
   ]
  },
  {
   "cell_type": "markdown",
   "metadata": {},
   "source": [
    "### References\n",
    "1. https://stackoverflow.com/\n",
    "2. https://github.com/ageron/handson-ml/blob/master/14_recurrent_neural_networks.ipynb\n",
    "3. Hands-On Machine Learning with Scikit-Learn and TensorFlow: Concepts, Tools, and Techniques to Build Intelligent Systems Aurélien Géron 2017"
   ]
  }
 ],
 "metadata": {
  "kernelspec": {
   "display_name": "Python 3",
   "language": "python",
   "name": "python3"
  },
  "language_info": {
   "codemirror_mode": {
    "name": "ipython",
    "version": 3
   },
   "file_extension": ".py",
   "mimetype": "text/x-python",
   "name": "python",
   "nbconvert_exporter": "python",
   "pygments_lexer": "ipython3",
   "version": "3.6.3"
  }
 },
 "nbformat": 4,
 "nbformat_minor": 2
}
