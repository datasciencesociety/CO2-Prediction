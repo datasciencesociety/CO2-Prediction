{
 "cells": [
  {
   "cell_type": "markdown",
   "metadata": {},
   "source": [
    "# Author Stefan Panev"
   ]
  },
  {
   "cell_type": "code",
   "execution_count": 1,
   "metadata": {
    "collapsed": true
   },
   "outputs": [],
   "source": [
    "%matplotlib inline"
   ]
  },
  {
   "cell_type": "code",
   "execution_count": 2,
   "metadata": {},
   "outputs": [
    {
     "name": "stderr",
     "output_type": "stream",
     "text": [
      "C:\\Users\\Stefan\\Anaconda3\\lib\\site-packages\\h5py\\__init__.py:34: FutureWarning: Conversion of the second argument of issubdtype from `float` to `np.floating` is deprecated. In future, it will be treated as `np.float64 == np.dtype(float).type`.\n",
      "  from ._conv import register_converters as _register_converters\n"
     ]
    }
   ],
   "source": [
    "import numpy as np\n",
    "import pandas as pd\n",
    "import matplotlib.pyplot as plt\n",
    "import tensorflow as tf"
   ]
  },
  {
   "cell_type": "code",
   "execution_count": 3,
   "metadata": {
    "collapsed": true
   },
   "outputs": [],
   "source": [
    "keeling = pd.read_csv('keeling.csv',error_bad_lines=False)"
   ]
  },
  {
   "cell_type": "code",
   "execution_count": 4,
   "metadata": {
    "collapsed": true
   },
   "outputs": [],
   "source": [
    "cols = ['Yr', 'Mn', 'Date', 'Date1', 'CO2', 'seasonally',\n",
    "       'fit', 'seasonally', 'filled_CO2', 'filled_seasonally']"
   ]
  },
  {
   "cell_type": "code",
   "execution_count": 5,
   "metadata": {
    "collapsed": true
   },
   "outputs": [],
   "source": [
    "keeling.columns = cols"
   ]
  },
  {
   "cell_type": "code",
   "execution_count": 6,
   "metadata": {
    "collapsed": true
   },
   "outputs": [],
   "source": [
    "keeling = keeling.iloc[2:]"
   ]
  },
  {
   "cell_type": "code",
   "execution_count": 7,
   "metadata": {},
   "outputs": [
    {
     "data": {
      "text/html": [
       "<div>\n",
       "<style>\n",
       "    .dataframe thead tr:only-child th {\n",
       "        text-align: right;\n",
       "    }\n",
       "\n",
       "    .dataframe thead th {\n",
       "        text-align: left;\n",
       "    }\n",
       "\n",
       "    .dataframe tbody tr th {\n",
       "        vertical-align: top;\n",
       "    }\n",
       "</style>\n",
       "<table border=\"1\" class=\"dataframe\">\n",
       "  <thead>\n",
       "    <tr style=\"text-align: right;\">\n",
       "      <th></th>\n",
       "      <th>Yr</th>\n",
       "      <th>Mn</th>\n",
       "      <th>Date</th>\n",
       "      <th>Date1</th>\n",
       "      <th>CO2</th>\n",
       "      <th>seasonally</th>\n",
       "      <th>fit</th>\n",
       "      <th>seasonally</th>\n",
       "      <th>filled_CO2</th>\n",
       "      <th>filled_seasonally</th>\n",
       "    </tr>\n",
       "  </thead>\n",
       "  <tbody>\n",
       "    <tr>\n",
       "      <th>2</th>\n",
       "      <td>1958</td>\n",
       "      <td>01</td>\n",
       "      <td>21200</td>\n",
       "      <td>1958.0411</td>\n",
       "      <td>-99.99</td>\n",
       "      <td>-99.99</td>\n",
       "      <td>-99.99</td>\n",
       "      <td>-99.99</td>\n",
       "      <td>-99.99</td>\n",
       "      <td>-99.99</td>\n",
       "    </tr>\n",
       "    <tr>\n",
       "      <th>3</th>\n",
       "      <td>1958</td>\n",
       "      <td>02</td>\n",
       "      <td>21231</td>\n",
       "      <td>1958.1260</td>\n",
       "      <td>-99.99</td>\n",
       "      <td>-99.99</td>\n",
       "      <td>-99.99</td>\n",
       "      <td>-99.99</td>\n",
       "      <td>-99.99</td>\n",
       "      <td>-99.99</td>\n",
       "    </tr>\n",
       "    <tr>\n",
       "      <th>4</th>\n",
       "      <td>1958</td>\n",
       "      <td>03</td>\n",
       "      <td>21259</td>\n",
       "      <td>1958.2027</td>\n",
       "      <td>315.70</td>\n",
       "      <td>314.42</td>\n",
       "      <td>316.19</td>\n",
       "      <td>314.90</td>\n",
       "      <td>315.70</td>\n",
       "      <td>314.42</td>\n",
       "    </tr>\n",
       "    <tr>\n",
       "      <th>5</th>\n",
       "      <td>1958</td>\n",
       "      <td>04</td>\n",
       "      <td>21290</td>\n",
       "      <td>1958.2877</td>\n",
       "      <td>317.46</td>\n",
       "      <td>315.15</td>\n",
       "      <td>317.30</td>\n",
       "      <td>314.98</td>\n",
       "      <td>317.46</td>\n",
       "      <td>315.15</td>\n",
       "    </tr>\n",
       "    <tr>\n",
       "      <th>6</th>\n",
       "      <td>1958</td>\n",
       "      <td>05</td>\n",
       "      <td>21320</td>\n",
       "      <td>1958.3699</td>\n",
       "      <td>317.51</td>\n",
       "      <td>314.71</td>\n",
       "      <td>317.85</td>\n",
       "      <td>315.06</td>\n",
       "      <td>317.51</td>\n",
       "      <td>314.71</td>\n",
       "    </tr>\n",
       "  </tbody>\n",
       "</table>\n",
       "</div>"
      ],
      "text/plain": [
       "     Yr   Mn      Date       Date1        CO2 seasonally          fit  \\\n",
       "2  1958   01     21200   1958.0411     -99.99     -99.99       -99.99   \n",
       "3  1958   02     21231   1958.1260     -99.99     -99.99       -99.99   \n",
       "4  1958   03     21259   1958.2027     315.70     314.42       316.19   \n",
       "5  1958   04     21290   1958.2877     317.46     315.15       317.30   \n",
       "6  1958   05     21320   1958.3699     317.51     314.71       317.85   \n",
       "\n",
       "  seasonally   filled_CO2 filled_seasonally  \n",
       "2     -99.99       -99.99            -99.99  \n",
       "3     -99.99       -99.99            -99.99  \n",
       "4     314.90       315.70            314.42  \n",
       "5     314.98       317.46            315.15  \n",
       "6     315.06       317.51            314.71  "
      ]
     },
     "execution_count": 7,
     "metadata": {},
     "output_type": "execute_result"
    }
   ],
   "source": [
    "keeling.head()"
   ]
  },
  {
   "cell_type": "code",
   "execution_count": 8,
   "metadata": {
    "collapsed": true
   },
   "outputs": [],
   "source": [
    "co2 = keeling[['Yr','CO2']]"
   ]
  },
  {
   "cell_type": "code",
   "execution_count": 9,
   "metadata": {
    "collapsed": true
   },
   "outputs": [],
   "source": [
    "co2 = co2[co2['CO2'] != '   -99.99']"
   ]
  },
  {
   "cell_type": "code",
   "execution_count": 10,
   "metadata": {
    "collapsed": true
   },
   "outputs": [],
   "source": [
    "co2 = pd.to_numeric(co2['CO2'])"
   ]
  },
  {
   "cell_type": "code",
   "execution_count": 11,
   "metadata": {
    "collapsed": true
   },
   "outputs": [],
   "source": [
    "train_set = co2.iloc[:711]"
   ]
  },
  {
   "cell_type": "code",
   "execution_count": 12,
   "metadata": {
    "collapsed": true
   },
   "outputs": [],
   "source": [
    "test_set = co2.iloc[711:]"
   ]
  },
  {
   "cell_type": "code",
   "execution_count": 13,
   "metadata": {
    "collapsed": true
   },
   "outputs": [],
   "source": [
    "def next_batch(training_data,batch_size,steps):\n",
    "    \n",
    "    # start from a random starting point for each batch\n",
    "    rand_start = np.random.randint(0,len(training_data)-steps) \n",
    "\n",
    "    # Create Y data for time series in the batches\n",
    "    y_batch = np.array(training_data[rand_start:rand_start+steps+1]).reshape(1,steps+1)\n",
    "\n",
    "    return y_batch[:, :-1].reshape(-1, steps, 1), y_batch[:, 1:].reshape(-1, steps, 1) "
   ]
  },
  {
   "cell_type": "code",
   "execution_count": 14,
   "metadata": {
    "collapsed": true
   },
   "outputs": [],
   "source": [
    "num_inputs = 1\n",
    "num_time_steps = 12\n",
    "num_neurons = 100\n",
    "num_outputs = 1\n",
    "learning_rate = 0.01\n",
    "num_train_iterations = 4000\n",
    "batch_size = 1\n",
    "num_layers = 3\n",
    "keep_prob = 0.5"
   ]
  },
  {
   "cell_type": "markdown",
   "metadata": {},
   "source": [
    "We now place a keep_prob value for the dropout rate and number of layers, to see some hyperparameter tuning."
   ]
  },
  {
   "cell_type": "code",
   "execution_count": 15,
   "metadata": {
    "collapsed": true
   },
   "outputs": [],
   "source": [
    "X = tf.placeholder(tf.float32, [None, num_time_steps, num_inputs])\n",
    "y = tf.placeholder(tf.float32, [None, num_time_steps, num_outputs])\n",
    "keep_prob = tf.placeholder_with_default(0.5, shape=())"
   ]
  },
  {
   "cell_type": "code",
   "execution_count": 16,
   "metadata": {
    "collapsed": true
   },
   "outputs": [],
   "source": [
    "cells = [tf.contrib.rnn.LSTMCell(num_units=num_neurons)\n",
    "         for layer in range(num_layers)] \n",
    "cells_drop = [tf.contrib.rnn.DropoutWrapper(cell, input_keep_prob=keep_prob)\n",
    "              for cell in cells]\n",
    "multi_layer_cell = tf.contrib.rnn.MultiRNNCell(cells_drop)"
   ]
  },
  {
   "cell_type": "code",
   "execution_count": 17,
   "metadata": {
    "collapsed": true
   },
   "outputs": [],
   "source": [
    "rnn_outputs, states = tf.nn.dynamic_rnn(multi_layer_cell, X, dtype=tf.float32)"
   ]
  },
  {
   "cell_type": "code",
   "execution_count": 18,
   "metadata": {
    "collapsed": true
   },
   "outputs": [],
   "source": [
    "stacked_rnn_outputs = tf.reshape(rnn_outputs, [-1, num_neurons])\n",
    "stacked_outputs = tf.layers.dense(stacked_rnn_outputs, num_outputs)\n",
    "outputs = tf.reshape(stacked_outputs, [-1, num_time_steps, num_outputs])"
   ]
  },
  {
   "cell_type": "code",
   "execution_count": 19,
   "metadata": {
    "collapsed": true
   },
   "outputs": [],
   "source": [
    "loss = tf.reduce_mean(tf.square(outputs - y))\n",
    "optimizer = tf.train.AdamOptimizer(learning_rate=learning_rate)\n",
    "training_optimizer = optimizer.minimize(loss)"
   ]
  },
  {
   "cell_type": "code",
   "execution_count": 20,
   "metadata": {
    "collapsed": true
   },
   "outputs": [],
   "source": [
    "init = tf.global_variables_initializer()"
   ]
  },
  {
   "cell_type": "code",
   "execution_count": 21,
   "metadata": {
    "collapsed": true
   },
   "outputs": [],
   "source": [
    "saver = tf.train.Saver()"
   ]
  },
  {
   "cell_type": "code",
   "execution_count": 22,
   "metadata": {},
   "outputs": [
    {
     "name": "stdout",
     "output_type": "stream",
     "text": [
      "0 \tMSE: 99100.19\n",
      "100 \tMSE: 58148.863\n",
      "200 \tMSE: 41532.04\n",
      "300 \tMSE: 7545.854\n",
      "400 \tMSE: 1095.6884\n",
      "500 \tMSE: 426.7322\n",
      "600 \tMSE: 490.6097\n",
      "700 \tMSE: 1751.7125\n",
      "800 \tMSE: 662.9793\n",
      "900 \tMSE: 1037.7886\n",
      "1000 \tMSE: 1566.2809\n",
      "1100 \tMSE: 1157.9972\n",
      "1200 \tMSE: 536.193\n",
      "1300 \tMSE: 855.5153\n",
      "1400 \tMSE: 3705.9944\n",
      "1500 \tMSE: 717.6702\n",
      "1600 \tMSE: 555.56055\n",
      "1700 \tMSE: 1400.7787\n",
      "1800 \tMSE: 1354.1672\n",
      "1900 \tMSE: 2406.747\n",
      "2000 \tMSE: 506.20364\n",
      "2100 \tMSE: 1201.4667\n",
      "2200 \tMSE: 1635.6685\n",
      "2300 \tMSE: 3422.7986\n",
      "2400 \tMSE: 632.57666\n",
      "2500 \tMSE: 955.649\n",
      "2600 \tMSE: 1550.4064\n",
      "2700 \tMSE: 1000.4812\n",
      "2800 \tMSE: 699.9777\n",
      "2900 \tMSE: 1811.4614\n",
      "3000 \tMSE: 783.7507\n",
      "3100 \tMSE: 847.1494\n",
      "3200 \tMSE: 932.54517\n",
      "3300 \tMSE: 1675.8651\n",
      "3400 \tMSE: 910.73267\n",
      "3500 \tMSE: 620.35126\n",
      "3600 \tMSE: 1582.0612\n",
      "3700 \tMSE: 650.01056\n",
      "3800 \tMSE: 939.35675\n",
      "3900 \tMSE: 827.1469\n"
     ]
    }
   ],
   "source": [
    "error = []\n",
    "with tf.Session() as sess:\n",
    "    sess.run(init)\n",
    "    \n",
    "    for iteration in range(num_train_iterations):\n",
    "        \n",
    "        X_batch, y_batch = next_batch(train_set,batch_size,num_time_steps)\n",
    "        sess.run(training_optimizer, feed_dict={X: X_batch, y: y_batch})\n",
    "        \n",
    "        if iteration % 100 == 0:\n",
    "            \n",
    "            mse = loss.eval(feed_dict={X: X_batch, y: y_batch})\n",
    "            print(iteration, \"\\tMSE:\", mse)\n",
    "            error.append(mse)\n",
    "    \n",
    "    # Save Model for Later\n",
    "    saver.save(sess, \"./StackedLSTM\")"
   ]
  },
  {
   "cell_type": "code",
   "execution_count": 23,
   "metadata": {},
   "outputs": [
    {
     "data": {
      "image/png": "[encoded data removed]",
      "text/plain": [
       "<matplotlib.figure.Figure at 0x252f8ac6d30>"
      ]
     },
     "metadata": {},
     "output_type": "display_data"
    }
   ],
   "source": [
    "plt.figure(figsize=(10,7))\n",
    "plt.plot(error)\n",
    "plt.title('MSE for the training the Stacked LSTM model')\n",
    "plt.xlabel('epochs')\n",
    "plt.ylabel('mse')\n",
    "plt.show()"
   ]
  },
  {
   "cell_type": "code",
   "execution_count": 24,
   "metadata": {},
   "outputs": [
    {
     "data": {
      "image/png": "[encoded data removed]",
      "text/plain": [
       "<matplotlib.figure.Figure at 0x252fd8a64e0>"
      ]
     },
     "metadata": {},
     "output_type": "display_data"
    }
   ],
   "source": [
    "plt.figure(figsize=(10,7))\n",
    "plt.plot(error[6:])\n",
    "plt.title('MSE for the training the Stacked LSTM model without the first 6 instances')\n",
    "plt.xlabel('epochs')\n",
    "plt.ylabel('mse')\n",
    "plt.show()"
   ]
  },
  {
   "cell_type": "code",
   "execution_count": 25,
   "metadata": {},
   "outputs": [
    {
     "name": "stdout",
     "output_type": "stream",
     "text": [
      "INFO:tensorflow:Restoring parameters from ./StackedLSTM\n"
     ]
    }
   ],
   "source": [
    "with tf.Session() as sess:\n",
    "    \n",
    "    saver.restore(sess, \"./StackedLSTM\")\n",
    "\n",
    "    train_seed = list(train_set[-12:])\n",
    "    \n",
    "    for iteration in range(12):\n",
    "        X_batch = np.array(train_seed[-num_time_steps:]).reshape(1, num_time_steps, 1)\n",
    "        y_pred = sess.run(outputs, feed_dict={X: X_batch})\n",
    "        train_seed.append(y_pred[0, -1, 0])"
   ]
  },
  {
   "cell_type": "code",
   "execution_count": 26,
   "metadata": {},
   "outputs": [
    {
     "data": {
      "text/plain": [
       "[403.64,\n",
       " 404.55,\n",
       " 406.07,\n",
       " 406.64,\n",
       " 407.06,\n",
       " 408.95,\n",
       " 409.91,\n",
       " 409.12,\n",
       " 407.2,\n",
       " 405.24,\n",
       " 403.27,\n",
       " 403.64,\n",
       " 358.89075,\n",
       " 358.89075,\n",
       " 358.89075,\n",
       " 358.89075,\n",
       " 358.89075,\n",
       " 358.89075,\n",
       " 358.89075,\n",
       " 358.89075,\n",
       " 358.89075,\n",
       " 358.89075,\n",
       " 358.89075,\n",
       " 358.89075]"
      ]
     },
     "execution_count": 26,
     "metadata": {},
     "output_type": "execute_result"
    }
   ],
   "source": [
    "train_seed"
   ]
  },
  {
   "cell_type": "code",
   "execution_count": 27,
   "metadata": {
    "collapsed": true
   },
   "outputs": [],
   "source": [
    "gen2 = train_seed[12:]"
   ]
  },
  {
   "cell_type": "code",
   "execution_count": 28,
   "metadata": {
    "collapsed": true
   },
   "outputs": [],
   "source": [
    "test_copy = test_set.copy(deep=True)"
   ]
  },
  {
   "cell_type": "code",
   "execution_count": 29,
   "metadata": {
    "collapsed": true
   },
   "outputs": [],
   "source": [
    "test_copy = pd.DataFrame(test_copy)"
   ]
  },
  {
   "cell_type": "code",
   "execution_count": 30,
   "metadata": {
    "collapsed": true
   },
   "outputs": [],
   "source": [
    "test_copy['Generated2'] = gen2"
   ]
  },
  {
   "cell_type": "code",
   "execution_count": 31,
   "metadata": {},
   "outputs": [
    {
     "data": {
      "text/html": [
       "<div>\n",
       "<style>\n",
       "    .dataframe thead tr:only-child th {\n",
       "        text-align: right;\n",
       "    }\n",
       "\n",
       "    .dataframe thead th {\n",
       "        text-align: left;\n",
       "    }\n",
       "\n",
       "    .dataframe tbody tr th {\n",
       "        vertical-align: top;\n",
       "    }\n",
       "</style>\n",
       "<table border=\"1\" class=\"dataframe\">\n",
       "  <thead>\n",
       "    <tr style=\"text-align: right;\">\n",
       "      <th></th>\n",
       "      <th>CO2</th>\n",
       "      <th>Generated2</th>\n",
       "    </tr>\n",
       "  </thead>\n",
       "  <tbody>\n",
       "    <tr>\n",
       "      <th>720</th>\n",
       "      <td>405.17</td>\n",
       "      <td>358.890747</td>\n",
       "    </tr>\n",
       "    <tr>\n",
       "      <th>721</th>\n",
       "      <td>406.75</td>\n",
       "      <td>358.890747</td>\n",
       "    </tr>\n",
       "    <tr>\n",
       "      <th>722</th>\n",
       "      <td>408.05</td>\n",
       "      <td>358.890747</td>\n",
       "    </tr>\n",
       "    <tr>\n",
       "      <th>723</th>\n",
       "      <td>408.34</td>\n",
       "      <td>358.890747</td>\n",
       "    </tr>\n",
       "    <tr>\n",
       "      <th>724</th>\n",
       "      <td>409.26</td>\n",
       "      <td>358.890747</td>\n",
       "    </tr>\n",
       "    <tr>\n",
       "      <th>725</th>\n",
       "      <td>410.31</td>\n",
       "      <td>358.890747</td>\n",
       "    </tr>\n",
       "    <tr>\n",
       "      <th>726</th>\n",
       "      <td>411.31</td>\n",
       "      <td>358.890747</td>\n",
       "    </tr>\n",
       "    <tr>\n",
       "      <th>727</th>\n",
       "      <td>410.88</td>\n",
       "      <td>358.890747</td>\n",
       "    </tr>\n",
       "    <tr>\n",
       "      <th>728</th>\n",
       "      <td>408.90</td>\n",
       "      <td>358.890747</td>\n",
       "    </tr>\n",
       "    <tr>\n",
       "      <th>729</th>\n",
       "      <td>407.10</td>\n",
       "      <td>358.890747</td>\n",
       "    </tr>\n",
       "    <tr>\n",
       "      <th>730</th>\n",
       "      <td>405.59</td>\n",
       "      <td>358.890747</td>\n",
       "    </tr>\n",
       "    <tr>\n",
       "      <th>731</th>\n",
       "      <td>406.00</td>\n",
       "      <td>358.890747</td>\n",
       "    </tr>\n",
       "  </tbody>\n",
       "</table>\n",
       "</div>"
      ],
      "text/plain": [
       "        CO2  Generated2\n",
       "720  405.17  358.890747\n",
       "721  406.75  358.890747\n",
       "722  408.05  358.890747\n",
       "723  408.34  358.890747\n",
       "724  409.26  358.890747\n",
       "725  410.31  358.890747\n",
       "726  411.31  358.890747\n",
       "727  410.88  358.890747\n",
       "728  408.90  358.890747\n",
       "729  407.10  358.890747\n",
       "730  405.59  358.890747\n",
       "731  406.00  358.890747"
      ]
     },
     "execution_count": 31,
     "metadata": {},
     "output_type": "execute_result"
    }
   ],
   "source": [
    "test_copy"
   ]
  },
  {
   "cell_type": "code",
   "execution_count": 32,
   "metadata": {},
   "outputs": [
    {
     "data": {
      "image/png": "[encoded data removed]",
      "text/plain": [
       "<matplotlib.figure.Figure at 0x252fa9d1940>"
      ]
     },
     "metadata": {},
     "output_type": "display_data"
    }
   ],
   "source": [
    "plt.figure(figsize=(10,7))\n",
    "plt.plot(test_copy['CO2'], marker='o', color='blue', label='actual')\n",
    "plt.plot(test_copy['Generated2'], marker='o', color='red', label='predicted')\n",
    "plt.legend(loc='upper right') \n",
    "plt.title('Predicted vs real values for last 12 months')\n",
    "plt.xlabel('time')\n",
    "plt.ylabel('CO2 concentration in ppm')\n",
    "plt.show()"
   ]
  },
  {
   "cell_type": "markdown",
   "metadata": {
    "collapsed": true
   },
   "source": [
    "The model generates the same values and it is the worst of the used models so far. It does not capture the seasonality nor is it close to the values. "
   ]
  }
 ],
 "metadata": {
  "kernelspec": {
   "display_name": "Python 3",
   "language": "python",
   "name": "python3"
  },
  "language_info": {
   "codemirror_mode": {
    "name": "ipython",
    "version": 3
   },
   "file_extension": ".py",
   "mimetype": "text/x-python",
   "name": "python",
   "nbconvert_exporter": "python",
   "pygments_lexer": "ipython3",
   "version": "3.6.3"
  }
 },
 "nbformat": 4,
 "nbformat_minor": 2
}
